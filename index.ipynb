{
 "cells": [
  {
   "cell_type": "code",
   "execution_count": 7,
   "metadata": {
    "scrolled": false,
    "slideshow": {
     "slide_type": "skip"
    }
   },
   "outputs": [
    {
     "data": {
      "text/plain": [
       "{'height': 1000, 'width': 1500}"
      ]
     },
     "execution_count": 7,
     "metadata": {},
     "output_type": "execute_result"
    }
   ],
   "source": [
    "import os, sys\n",
    "\n",
    "#figure display\n",
    "from IPython.core.display import HTML\n",
    "from IPython.display import display, IFrame\n",
    "\n",
    "#files for data munging\n",
    "file_dir = os.getcwd()\n",
    "sys.path.append(file_dir + \"/scripts\")\n",
    "\n",
    "#inline plotting\n",
    "from bokeh.resources import INLINE\n",
    "\n",
    "#set size of figures\n",
    "from notebook.services.config import ConfigManager\n",
    "cm = ConfigManager()\n",
    "cm.update('livereveal', {\n",
    "          'width': 1500,\n",
    "          'height': 1000,\n",
    "})\n"
   ]
  },
  {
   "cell_type": "code",
   "execution_count": 104,
   "metadata": {
    "scrolled": true,
    "slideshow": {
     "slide_type": "notes"
    }
   },
   "outputs": [],
   "source": [
    "import os\n",
    "from IPython.display import IFrame\n",
    "import pandas as pd"
   ]
  },
  {
   "cell_type": "code",
   "execution_count": 118,
   "metadata": {
    "slideshow": {
     "slide_type": "notes"
    }
   },
   "outputs": [
    {
     "name": "stdout",
     "output_type": "stream",
     "text": [
      "Process is terminated.\n"
     ]
    }
   ],
   "source": [
    "%%bash \n",
    "jupyter nbconvert ~/Documents/Projects/RSS-2018/index.ipynb --SlidesExporter.reveal_theme=serif --SlidesExporter.reveal_scroll=True --SlidesExporter.reveal_transition=slide --to slides --post serve"
   ]
  },
  {
   "cell_type": "code",
   "execution_count": 119,
   "metadata": {
    "slideshow": {
     "slide_type": "notes"
    }
   },
   "outputs": [
    {
     "name": "stderr",
     "output_type": "stream",
     "text": [
      "[NbConvertApp] Converting notebook /home/eddr/Documents/Projects/RSS-2018/index.ipynb to slides\n",
      "[NbConvertApp] Writing 312123 bytes to /home/eddr/Documents/Projects/RSS-2018/index.slides.html\n"
     ]
    }
   ],
   "source": [
    "%%bash \n",
    "jupyter nbconvert ~/Documents/Projects/RSS-2018/index.ipynb --SlidesExporter.reveal_theme=serif --SlidesExporter.reveal_scroll=True --SlidesExporter.reveal_transition=slide --to slides"
   ]
  },
  {
   "cell_type": "markdown",
   "metadata": {
    "slideshow": {
     "slide_type": "slide"
    }
   },
   "source": [
    "# Traffic flow as an early indicator for GDP growth \n",
    "\n",
    "\n",
    "**Edward Rowland**  \n",
    "Big Data - Methodology \n",
    "\n",
    "**Jessica Lawrence, Nathan Davis, Anthony Fitzroy and Ben Vince**  \n",
    "Data Engineering - DaaS\n",
    " \n",
    "**Duncan Elliot**  \n",
    "Time series analysis - Methodology\n",
    "  \n",
    "Office for National Statistics, UK"
   ]
  },
  {
   "cell_type": "code",
   "execution_count": 21,
   "metadata": {
    "scrolled": false,
    "slideshow": {
     "slide_type": "subslide"
    }
   },
   "outputs": [
    {
     "data": {
      "text/html": [
       "<script>\n",
       "code_show=true; \n",
       "function code_toggle() {\n",
       " if (code_show){\n",
       " $('div.input').hide();\n",
       " } else {\n",
       " $('div.input').show();\n",
       " }\n",
       " code_show = !code_show\n",
       "} \n",
       "$( document ).ready(code_toggle);\n",
       "</script>\n",
       "<form action=\"javascript:code_toggle()\"><input type=\"submit\" value=\"Click here to toggle on/off the raw code.\"></form>"
      ],
      "text/plain": [
       "<IPython.core.display.HTML object>"
      ]
     },
     "execution_count": 21,
     "metadata": {},
     "output_type": "execute_result"
    }
   ],
   "source": [
    "# source: https://stackoverflow.com/questions/27934885/how-to-hide-code-from-cells-in-ipython-notebook-visualized-with-nbviewer\n",
    "\n",
    "HTML('''<script>\n",
    "code_show=true; \n",
    "function code_toggle() {\n",
    " if (code_show){\n",
    " $('div.input').hide();\n",
    " } else {\n",
    " $('div.input').show();\n",
    " }\n",
    " code_show = !code_show\n",
    "} \n",
    "$( document ).ready(code_toggle);\n",
    "</script>\n",
    "<form action=\"javascript:code_toggle()\"><input type=\"submit\" value=\"Click here to toggle on/off the raw code.\"></form>''')"
   ]
  },
  {
   "cell_type": "code",
   "execution_count": 1,
   "metadata": {
    "scrolled": false,
    "slideshow": {
     "slide_type": "subslide"
    }
   },
   "outputs": [
    {
     "data": {
      "text/html": [
       "<script>\n",
       "code_show_err=false; \n",
       "function code_toggle_err() {\n",
       " if (code_show_err){\n",
       " $('div.output_stderr').hide();\n",
       " } else {\n",
       " $('div.output_stderr').show();\n",
       " }\n",
       " code_show_err = !code_show_err\n",
       "} \n",
       "$( document ).ready(code_toggle_err);\n",
       "</script>\n",
       "\n",
       "<form action=\"javascript:code_toggle_err()\"><input type=\"submit\" value=\"Click here to toggle on/off warnings.\"></form>"
      ],
      "text/plain": [
       "<IPython.core.display.HTML object>"
      ]
     },
     "execution_count": 1,
     "metadata": {},
     "output_type": "execute_result"
    }
   ],
   "source": [
    "#source: https://stackoverflow.com/questions/9031783/hide-all-warnings-in-ipython\n",
    "from IPython.display import HTML\n",
    "\n",
    "HTML('''<script>\n",
    "code_show_err=false; \n",
    "function code_toggle_err() {\n",
    " if (code_show_err){\n",
    " $('div.output_stderr').hide();\n",
    " } else {\n",
    " $('div.output_stderr').show();\n",
    " }\n",
    " code_show_err = !code_show_err\n",
    "} \n",
    "$( document ).ready(code_toggle_err);\n",
    "</script>\n",
    "\n",
    "<form action=\"javascript:code_toggle_err()\"><input type=\"submit\" value=\"Click here to toggle on/off warnings.\"></form>''')"
   ]
  },
  {
   "cell_type": "markdown",
   "metadata": {
    "slideshow": {
     "slide_type": "slide"
    }
   },
   "source": [
    "# Talk Structure\n",
    "\n",
    "\n",
    "1. Background\n",
    "2. Other research\n",
    "4. High Frequency traffic counts\n",
    "5. Supervised learning models\n",
    "6. Discussion  \n",
    "\n",
    "**Other things I may not have time to talk about but are in these slides**\n",
    "7. Future direction with some more time series analysis\n",
    "8. Correlations and time series models with annual data\n",
    "9. Trends and seasonal decomposition of daily traffic counts"
   ]
  },
  {
   "cell_type": "markdown",
   "metadata": {
    "slideshow": {
     "slide_type": "slide"
    }
   },
   "source": [
    "<h1>\n",
    "Background\n",
    "</h1>"
   ]
  },
  {
   "cell_type": "markdown",
   "metadata": {
    "slideshow": {
     "slide_type": "fragment"
    }
   },
   "source": [
    "### Traffic flow is thought to be elastic to a number of economic factors\n",
    "\n",
    "- GDP: More stuff being made that needs to be moved about\n",
    "- Salary: More money means people might travel more for work, business and leisure\n",
    "- Employment: More people in work may mean more commuting\n",
    "- Inflation: If the cost of living goes up, that might mean less traffic as people cut back on expenses\n"
   ]
  },
  {
   "cell_type": "markdown",
   "metadata": {
    "slideshow": {
     "slide_type": "subslide"
    }
   },
   "source": [
    "### How is this useful?"
   ]
  },
  {
   "cell_type": "markdown",
   "metadata": {
    "slideshow": {
     "slide_type": "fragment"
    }
   },
   "source": [
    "**1. More localised estimates**  \n",
    "Identify areas of low or negative growth that would be lost if looking at the national figures"
   ]
  },
  {
   "cell_type": "markdown",
   "metadata": {
    "slideshow": {
     "slide_type": "fragment"
    }
   },
   "source": [
    "**2. Potential early indicator**  \n",
    "A recession is defined as having two or more quarters of negative GDP growth.\n",
    "The UK won't officially know if it is in recession until around 6-7 months after it started."
   ]
  },
  {
   "cell_type": "markdown",
   "metadata": {
    "slideshow": {
     "slide_type": "fragment"
    }
   },
   "source": [
    "**3. Identify impacts of specific events**  \n",
    "With high frequency data, it could identify the impacts of events (Weather, terrorist attacks, Brexit etc.)"
   ]
  },
  {
   "cell_type": "markdown",
   "metadata": {
    "slideshow": {
     "slide_type": "slide"
    }
   },
   "source": [
    "# Work from other NSIs"
   ]
  },
  {
   "cell_type": "markdown",
   "metadata": {
    "slideshow": {
     "slide_type": "slide"
    }
   },
   "source": [
    "### Stats Netherlands\n",
    "\n",
    "Research using data from an extensive road sensor network in The Netherlands shows correlations with traffic flow and a number of economic measures with a lag of 3 months\n",
    "\n",
    "\n",
    "| Measure       | Total Traffic | Cat 1 (< 5.6m) Traffic | Cat 2 (5.6m =< >= 12.2m) Traffic | Cat 3 (> 12.2m) Traffic |\n",
    "| ------------- |:-------------:| -----:|\n",
    "| Inflation     | -0.42 |  -0.43 | - 0.19 | -0.43 |\n",
    "| Unemployment  | -0.47 |  -0.41 | -0.55 | -0.22 |\n",
    "| Income        | 0.74  |  0.74  |  0.45 | 0.65 |\n",
    "| GDP           | 0.54  | 0.63   | -0.01 | 0.70 |\n"
   ]
  },
  {
   "cell_type": "markdown",
   "metadata": {
    "slideshow": {
     "slide_type": "subslide"
    }
   },
   "source": [
    "- Income followed by GDP look to be the strongest correlates\n",
    "- Larger vehicles (HGVs) correlate most strongly with GDP\n",
    "- Perhaps some weaker correlations with inflation and Unemployment"
   ]
  },
  {
   "cell_type": "markdown",
   "metadata": {
    "slideshow": {
     "slide_type": "fragment"
    }
   },
   "source": [
    "Killan, Ros,  \"Road Traffic Correlations with Economic Variables: The Big Data Perspective., 2017, https://pdfs.semanticscholar.org/1f1d/b563d229bdd4fd8c90ad8dd6c5cd3487f76b.pdf"
   ]
  },
  {
   "cell_type": "markdown",
   "metadata": {
    "slideshow": {
     "slide_type": "slide"
    }
   },
   "source": [
    "### Statistical Office of the Republic of Slovenia (SURS)"
   ]
  },
  {
   "cell_type": "markdown",
   "metadata": {
    "slideshow": {
     "slide_type": "fragment"
    }
   },
   "source": [
    "- Used traffic flow to estimate GDP figure 45 days before its publication.\n",
    "- PCA with linear regression to estimate GDP\n",
    "- Found that cargo vehicles were the best predictor of GDP, within 1% of the GDP figure"
   ]
  },
  {
   "cell_type": "markdown",
   "metadata": {
    "slideshow": {
     "slide_type": "fragment"
    }
   },
   "source": [
    "Črt Grahonja, 2018, Use of alternative data sources as flash estimates of economic indicators,\n",
    "European conference on quality in official statistics June 2018: \n",
    "https://www.q2018.pl/papers-presentations/?drawer=Sessions*Session%2022\n"
   ]
  },
  {
   "cell_type": "markdown",
   "metadata": {
    "slideshow": {
     "slide_type": "slide"
    }
   },
   "source": [
    "## Statistics Finland"
   ]
  },
  {
   "cell_type": "markdown",
   "metadata": {
    "slideshow": {
     "slide_type": "fragment"
    }
   },
   "source": [
    "- Uses Company level data and traffic loops to produce two nowcasts and a 16-day backcast of GDP\n",
    "- Reduce factors by two-step PCA and shrinkage step \n",
    "- 16 day backcast was as accurate as the first estimate of GDP when comparing both to the revised figure\n",
    "- Traffic flow and company data were similar when estimating GDP"
   ]
  },
  {
   "cell_type": "markdown",
   "metadata": {
    "slideshow": {
     "slide_type": "fragment"
    }
   },
   "source": [
    "Henri Luomaranta, 2018, Nowcasting Finnish Real Economic Activity: a Machine Learning Approach,\n",
    "European conference on Quality in official statistics June 2018: \n",
    "https://www.q2018.pl/papers-presentations/?drawer=Sessions*Session%2022"
   ]
  },
  {
   "cell_type": "markdown",
   "metadata": {
    "slideshow": {
     "slide_type": "slide"
    }
   },
   "source": [
    "# High frequency traffic flow data"
   ]
  },
  {
   "cell_type": "markdown",
   "metadata": {
    "slideshow": {
     "slide_type": "subslide"
    }
   },
   "source": [
    "## Highways England data"
   ]
  },
  {
   "cell_type": "markdown",
   "metadata": {
    "slideshow": {
     "slide_type": "fragment"
    }
   },
   "source": [
    "Highways England provides an open dataset containing traffic flow counts at 15 minute intervals for Motorways and major A-Roads across England.\n",
    "\n",
    "- The Data Engineering team in DaaS have scraped and ingested this data\n",
    "    - Over 2 million separate files\n",
    "    - Over 200Gb of data\n",
    "    - Separates out small (< 5.6m), medium (5.6 - 6.6m), large (6.6 - 11.6m) and very large (> 11.6m) vehicles\n",
    "\n",
    "- Really exciting high frequency dataset - ideally suited for this work\n",
    "    - Look at the approaches used in Slovenia and Finland\n",
    "    - Previously we have replicated correlations found by Stats Netherlands using annual data\n",
    "\n"
   ]
  },
  {
   "cell_type": "markdown",
   "metadata": {
    "slideshow": {
     "slide_type": "slide"
    }
   },
   "source": [
    "### Data processing"
   ]
  },
  {
   "cell_type": "markdown",
   "metadata": {
    "slideshow": {
     "slide_type": "fragment"
    }
   },
   "source": [
    "Make the data manageable\n",
    "- Aggregate to give mean traffic count for a 15 minute period across the UK for each day\n",
    "- Created features by decomposing the data to find trend and yearly seasonal components as well as moving averages\n",
    "- For supervised learning, create a feature for each traffic variable for each day in time period\n",
    "- Compare this to quarterly GDP"
   ]
  },
  {
   "cell_type": "markdown",
   "metadata": {
    "slideshow": {
     "slide_type": "slide"
    }
   },
   "source": [
    "# Modelling"
   ]
  },
  {
   "cell_type": "markdown",
   "metadata": {
    "slideshow": {
     "slide_type": "fragment"
    }
   },
   "source": [
    "A range of different approaches were used including...\n",
    "\n",
    "- SARIMAX - with a variety of different quarterly weighted average traffic flow measures as exogenous regressors\n",
    "- PCA for decomposition and linear regression with and without shrinkage methods\n",
    "- PCA for decomposition and Random Forest Regression\n",
    "- 3-fold cross validated Grid Search used for parameter optimisation for supervised learning methods\n",
    "\n",
    "Ridge regression looked to be the \"best\" model of these"
   ]
  },
  {
   "cell_type": "code",
   "execution_count": 83,
   "metadata": {
    "slideshow": {
     "slide_type": "slide"
    }
   },
   "outputs": [
    {
     "data": {
      "text/html": [
       "\n",
       "        <iframe\n",
       "            width=\"1000\"\n",
       "            height=\"600\"\n",
       "            src=\"figures/full_ts_ridge_model_small.html\"\n",
       "            frameborder=\"0\"\n",
       "            allowfullscreen\n",
       "        ></iframe>\n",
       "        "
      ],
      "text/plain": [
       "<IPython.lib.display.IFrame at 0x7f69e0b24a90>"
      ]
     },
     "execution_count": 83,
     "metadata": {},
     "output_type": "execute_result"
    }
   ],
   "source": [
    "IFrame(\"figures/full_ts_ridge_model_small.html\",\n",
    "       width=1000, \n",
    "       height=600)\n"
   ]
  },
  {
   "cell_type": "markdown",
   "metadata": {
    "slideshow": {
     "slide_type": "slide"
    }
   },
   "source": [
    "# Why did this fail?\n",
    "\n",
    "The approaches used here are similar to the work carried out in Finland and Slovenia."
   ]
  },
  {
   "cell_type": "markdown",
   "metadata": {
    "slideshow": {
     "slide_type": "fragment"
    }
   },
   "source": [
    "Data time period used by..."
   ]
  },
  {
   "cell_type": "markdown",
   "metadata": {
    "slideshow": {
     "slide_type": "fragment"
    }
   },
   "source": [
    "- Stats Netherlands: 2011 - 2016"
   ]
  },
  {
   "cell_type": "markdown",
   "metadata": {
    "slideshow": {
     "slide_type": "fragment"
    }
   },
   "source": [
    "- Statistics Finland: 2013 - 2018"
   ]
  },
  {
   "cell_type": "markdown",
   "metadata": {
    "slideshow": {
     "slide_type": "fragment"
    }
   },
   "source": [
    "- SURS: 2011-2018 "
   ]
  },
  {
   "cell_type": "markdown",
   "metadata": {
    "slideshow": {
     "slide_type": "fragment"
    }
   },
   "source": [
    "- ONS, UK: 2006 - 2014"
   ]
  },
  {
   "cell_type": "markdown",
   "metadata": {
    "slideshow": {
     "slide_type": "fragment"
    }
   },
   "source": [
    "... only one of these includes a global financial crisis. Let us see what happens when we try this with data from 2010-2014."
   ]
  },
  {
   "cell_type": "code",
   "execution_count": 94,
   "metadata": {
    "slideshow": {
     "slide_type": "slide"
    }
   },
   "outputs": [
    {
     "data": {
      "text/html": [
       "\n",
       "        <iframe\n",
       "            width=\"800\"\n",
       "            height=\"600\"\n",
       "            src=\"figures/no_rec_ridge_model_small.html\"\n",
       "            frameborder=\"0\"\n",
       "            allowfullscreen\n",
       "        ></iframe>\n",
       "        "
      ],
      "text/plain": [
       "<IPython.lib.display.IFrame at 0x7f69e0b24e80>"
      ]
     },
     "execution_count": 94,
     "metadata": {},
     "output_type": "execute_result"
    }
   ],
   "source": [
    "IFrame(\"figures/no_rec_ridge_model_small.html\",\n",
    "       width=800, \n",
    "       height=600)\n"
   ]
  },
  {
   "cell_type": "markdown",
   "metadata": {
    "slideshow": {
     "slide_type": "subslide"
    }
   },
   "source": [
    "\n",
    "### Model 1\n",
    "| Metric       | Value  | Fitted to | Tested on |Features            | \n",
    "| ------------:|:------:|:----------|:---------:|:-------------------:| \n",
    "| MSE          | 0.353  | 2006-2014 | 2006-2014 | 7 day moving average |\n",
    "| R squared    | 0.354  | 2006-2014 | 2006-2014 | 7 day moving average |\n",
    "\n",
    "### Model 2\n",
    "\n",
    "| Metric       | Value  | Fitted to | Tested on |Features            | \n",
    "| ------------:|:------:|:----------|:---------:|:-------------------:| \n",
    "| MSE          | 0.137  | 2006-2014 | 2010-2014 | 7 day moving average |\n",
    "| R squared    | -0.126 | 2006-2014 | 2010-2014 | 7 day moving average |\n",
    "### Model 3\n",
    "\n",
    "| Metric       | Value  | Fitted to | Tested on |Features            | \n",
    "| ------------:|:------:|:----------|:---------:|:-------------------:| \n",
    "| MSE          | 0.024  | 2010-2014 | 2010-2014 | Trend and seasonal components |\n",
    "| R squared    | 0.796  | 2010-2014 | 2010-2014 | Trend and seasonal components |\n",
    "\n",
    "\n",
    "\n",
    "\n"
   ]
  },
  {
   "cell_type": "markdown",
   "metadata": {
    "slideshow": {
     "slide_type": "slide"
    }
   },
   "source": [
    "# That looks a lot better!"
   ]
  },
  {
   "cell_type": "markdown",
   "metadata": {
    "slideshow": {
     "slide_type": "slide"
    }
   },
   "source": [
    "# Summary"
   ]
  },
  {
   "cell_type": "markdown",
   "metadata": {
    "slideshow": {
     "slide_type": "fragment"
    }
   },
   "source": [
    "- It is quite \"easy\" to produce reasonable estimates of GDP with traffic flow data, **when there is no recession**\n",
    "- This replicates results found by other NSIs\n",
    "- Making predictions about the real world events that drastically deviates from the norm is \"hard\"\n"
   ]
  },
  {
   "cell_type": "markdown",
   "metadata": {
    "slideshow": {
     "slide_type": "slide"
    }
   },
   "source": [
    "# Take home: be **very** careful "
   ]
  },
  {
   "cell_type": "markdown",
   "metadata": {
    "slideshow": {
     "slide_type": "fragment"
    }
   },
   "source": [
    "If nowcasts/flash estimates from these data sources are used by then it is possible they will not be able anticipate drastic changes, like a recession. "
   ]
  },
  {
   "cell_type": "markdown",
   "metadata": {
    "slideshow": {
     "slide_type": "fragment"
    }
   },
   "source": [
    "This means your model may fail, just when policymakers and buisinesses need them the most."
   ]
  },
  {
   "cell_type": "markdown",
   "metadata": {
    "slideshow": {
     "slide_type": "fragment"
    }
   },
   "source": [
    "In turn, this could introduce complacency - worse than if your estimations didn't exist "
   ]
  },
  {
   "cell_type": "markdown",
   "metadata": {
    "slideshow": {
     "slide_type": "slide"
    }
   },
   "source": [
    "# What can we do then?"
   ]
  },
  {
   "cell_type": "markdown",
   "metadata": {
    "slideshow": {
     "slide_type": "fragment"
    }
   },
   "source": [
    "Try some other economic indicators?\n",
    "- Average salary\n",
    "- Unemployment\n",
    "- Imports and exports\n",
    "\n",
    "Well the data we have means we may be able to solve this problem.\n",
    "\n",
    "We have only scratched the surface, there may be a recession \"singature\" in the data. With careful decomposition and analysis we may be able to find it, such as..."
   ]
  },
  {
   "cell_type": "markdown",
   "metadata": {
    "slideshow": {
     "slide_type": "slide"
    }
   },
   "source": [
    "# Time series features"
   ]
  },
  {
   "cell_type": "markdown",
   "metadata": {
    "slideshow": {
     "slide_type": "fragment"
    }
   },
   "source": [
    "# Daily\n",
    "\n",
    "![alt text](images/days of the week 2.png)"
   ]
  },
  {
   "cell_type": "markdown",
   "metadata": {
    "slideshow": {
     "slide_type": "subslide"
    }
   },
   "source": [
    "# Weekly\n",
    "\n",
    "Spectral analysis from fitting an AR(35) model to the data\n",
    "\n",
    "![alt text](images/spectral analysis.png)"
   ]
  },
  {
   "cell_type": "markdown",
   "metadata": {
    "slideshow": {
     "slide_type": "subslide"
    }
   },
   "source": [
    "# Monthly\n",
    "\n",
    "![alt text](images/monthly 2.png)"
   ]
  },
  {
   "cell_type": "markdown",
   "metadata": {
    "slideshow": {
     "slide_type": "subslide"
    }
   },
   "source": [
    "# Residuals around easter"
   ]
  },
  {
   "cell_type": "code",
   "execution_count": 108,
   "metadata": {
    "slideshow": {
     "slide_type": "notes"
    }
   },
   "outputs": [],
   "source": [
    "easter_df = pd.read_csv(\"{}/ts_results/easter_coeff.csv\".format(os.getcwd()), index_col = 0)"
   ]
  },
  {
   "cell_type": "code",
   "execution_count": 109,
   "metadata": {
    "slideshow": {
     "slide_type": "subslide"
    }
   },
   "outputs": [
    {
     "data": {
      "text/html": [
       "<div>\n",
       "<style scoped>\n",
       "    .dataframe tbody tr th:only-of-type {\n",
       "        vertical-align: middle;\n",
       "    }\n",
       "\n",
       "    .dataframe tbody tr th {\n",
       "        vertical-align: top;\n",
       "    }\n",
       "\n",
       "    .dataframe thead th {\n",
       "        text-align: right;\n",
       "    }\n",
       "</style>\n",
       "<table border=\"1\" class=\"dataframe\">\n",
       "  <thead>\n",
       "    <tr style=\"text-align: right;\">\n",
       "      <th></th>\n",
       "      <th>-2</th>\n",
       "      <th>-1</th>\n",
       "      <th>0</th>\n",
       "      <th>1</th>\n",
       "      <th>2</th>\n",
       "    </tr>\n",
       "    <tr>\n",
       "      <th>Easter</th>\n",
       "      <th></th>\n",
       "      <th></th>\n",
       "      <th></th>\n",
       "      <th></th>\n",
       "      <th></th>\n",
       "    </tr>\n",
       "  </thead>\n",
       "  <tbody>\n",
       "    <tr>\n",
       "      <th>16/04/06</th>\n",
       "      <td>-4.97</td>\n",
       "      <td>1.97</td>\n",
       "      <td>0.58</td>\n",
       "      <td>-1.83</td>\n",
       "      <td>2.18</td>\n",
       "    </tr>\n",
       "    <tr>\n",
       "      <th>08/04/07</th>\n",
       "      <td>-4.82</td>\n",
       "      <td>2.16</td>\n",
       "      <td>0.63</td>\n",
       "      <td>-1.70</td>\n",
       "      <td>2.74</td>\n",
       "    </tr>\n",
       "    <tr>\n",
       "      <th>23/03/08</th>\n",
       "      <td>-5.51</td>\n",
       "      <td>1.33</td>\n",
       "      <td>-0.44</td>\n",
       "      <td>-1.27</td>\n",
       "      <td>2.99</td>\n",
       "    </tr>\n",
       "    <tr>\n",
       "      <th>12/04/09</th>\n",
       "      <td>-5.37</td>\n",
       "      <td>1.96</td>\n",
       "      <td>0.18</td>\n",
       "      <td>-1.46</td>\n",
       "      <td>2.44</td>\n",
       "    </tr>\n",
       "    <tr>\n",
       "      <th>04/04/10</th>\n",
       "      <td>-4.99</td>\n",
       "      <td>1.96</td>\n",
       "      <td>0.34</td>\n",
       "      <td>-2.16</td>\n",
       "      <td>2.55</td>\n",
       "    </tr>\n",
       "    <tr>\n",
       "      <th>24/04/11</th>\n",
       "      <td>-5.38</td>\n",
       "      <td>0.63</td>\n",
       "      <td>1.43</td>\n",
       "      <td>-0.54</td>\n",
       "      <td>1.73</td>\n",
       "    </tr>\n",
       "    <tr>\n",
       "      <th>08/04/12</th>\n",
       "      <td>-4.99</td>\n",
       "      <td>2.05</td>\n",
       "      <td>0.11</td>\n",
       "      <td>-2.39</td>\n",
       "      <td>2.84</td>\n",
       "    </tr>\n",
       "    <tr>\n",
       "      <th>31/03/13</th>\n",
       "      <td>-4.73</td>\n",
       "      <td>2.03</td>\n",
       "      <td>-0.39</td>\n",
       "      <td>-2.59</td>\n",
       "      <td>2.21</td>\n",
       "    </tr>\n",
       "    <tr>\n",
       "      <th>20/04/14</th>\n",
       "      <td>-4.56</td>\n",
       "      <td>1.90</td>\n",
       "      <td>0.08</td>\n",
       "      <td>-1.37</td>\n",
       "      <td>2.63</td>\n",
       "    </tr>\n",
       "  </tbody>\n",
       "</table>\n",
       "</div>"
      ],
      "text/plain": [
       "            -2    -1     0     1     2\n",
       "Easter                                \n",
       "16/04/06 -4.97  1.97  0.58 -1.83  2.18\n",
       "08/04/07 -4.82  2.16  0.63 -1.70  2.74\n",
       "23/03/08 -5.51  1.33 -0.44 -1.27  2.99\n",
       "12/04/09 -5.37  1.96  0.18 -1.46  2.44\n",
       "04/04/10 -4.99  1.96  0.34 -2.16  2.55\n",
       "24/04/11 -5.38  0.63  1.43 -0.54  1.73\n",
       "08/04/12 -4.99  2.05  0.11 -2.39  2.84\n",
       "31/03/13 -4.73  2.03 -0.39 -2.59  2.21\n",
       "20/04/14 -4.56  1.90  0.08 -1.37  2.63"
      ]
     },
     "execution_count": 109,
     "metadata": {},
     "output_type": "execute_result"
    }
   ],
   "source": [
    "easter_df"
   ]
  },
  {
   "cell_type": "markdown",
   "metadata": {
    "slideshow": {
     "slide_type": "subslide"
    }
   },
   "source": [
    "# Significant days \n",
    "Including the effects of rain and temperature"
   ]
  },
  {
   "cell_type": "code",
   "execution_count": 110,
   "metadata": {
    "slideshow": {
     "slide_type": "notes"
    }
   },
   "outputs": [],
   "source": [
    "days_df = pd.read_csv(\"{}/ts_results/sig_days.csv\".format(os.getcwd()), index_col = 0)"
   ]
  },
  {
   "cell_type": "code",
   "execution_count": 112,
   "metadata": {
    "slideshow": {
     "slide_type": "subslide"
    }
   },
   "outputs": [
    {
     "data": {
      "text/html": [
       "<div>\n",
       "<style scoped>\n",
       "    .dataframe tbody tr th:only-of-type {\n",
       "        vertical-align: middle;\n",
       "    }\n",
       "\n",
       "    .dataframe tbody tr th {\n",
       "        vertical-align: top;\n",
       "    }\n",
       "\n",
       "    .dataframe thead th {\n",
       "        text-align: right;\n",
       "    }\n",
       "</style>\n",
       "<table border=\"1\" class=\"dataframe\">\n",
       "  <thead>\n",
       "    <tr style=\"text-align: right;\">\n",
       "      <th></th>\n",
       "      <th>Coefficient</th>\n",
       "      <th>Standard Error</th>\n",
       "    </tr>\n",
       "  </thead>\n",
       "  <tbody>\n",
       "    <tr>\n",
       "      <th>Additional Holiday for Wedding of Kate and William</th>\n",
       "      <td>-136.10</td>\n",
       "      <td>10.07</td>\n",
       "    </tr>\n",
       "    <tr>\n",
       "      <th>Christmas Day</th>\n",
       "      <td>-113.26</td>\n",
       "      <td>5.03</td>\n",
       "    </tr>\n",
       "    <tr>\n",
       "      <th>New Year Bank Holiday</th>\n",
       "      <td>-108.68</td>\n",
       "      <td>3.67</td>\n",
       "    </tr>\n",
       "    <tr>\n",
       "      <th>Good Friday</th>\n",
       "      <td>-103.16</td>\n",
       "      <td>3.36</td>\n",
       "    </tr>\n",
       "    <tr>\n",
       "      <th>Late May Bank Holiday</th>\n",
       "      <td>-91.11</td>\n",
       "      <td>3.36</td>\n",
       "    </tr>\n",
       "    <tr>\n",
       "      <th>Additional Holiday for Queens Diamond Jubilee</th>\n",
       "      <td>-89.29</td>\n",
       "      <td>10.07</td>\n",
       "    </tr>\n",
       "    <tr>\n",
       "      <th>Christmas Bank Holiday</th>\n",
       "      <td>-84.30</td>\n",
       "      <td>5.05</td>\n",
       "    </tr>\n",
       "    <tr>\n",
       "      <th>Early May Bank Holiday</th>\n",
       "      <td>-80.01</td>\n",
       "      <td>3.36</td>\n",
       "    </tr>\n",
       "    <tr>\n",
       "      <th>August Bank Holiday (England and Wales)</th>\n",
       "      <td>-77.27</td>\n",
       "      <td>3.35</td>\n",
       "    </tr>\n",
       "    <tr>\n",
       "      <th>Boxing Day Bank Holiday</th>\n",
       "      <td>-70.55</td>\n",
       "      <td>3.50</td>\n",
       "    </tr>\n",
       "    <tr>\n",
       "      <th>Easter Monday</th>\n",
       "      <td>-67.69</td>\n",
       "      <td>3.36</td>\n",
       "    </tr>\n",
       "    <tr>\n",
       "      <th>Christmas Eve</th>\n",
       "      <td>-35.32</td>\n",
       "      <td>3.50</td>\n",
       "    </tr>\n",
       "    <tr>\n",
       "      <th>Deviation from mean daily rain fall</th>\n",
       "      <td>-0.40</td>\n",
       "      <td>0.06</td>\n",
       "    </tr>\n",
       "    <tr>\n",
       "      <th>Deviation from mean daily temperature</th>\n",
       "      <td>0.45</td>\n",
       "      <td>0.13</td>\n",
       "    </tr>\n",
       "  </tbody>\n",
       "</table>\n",
       "</div>"
      ],
      "text/plain": [
       "                                                    Coefficient  \\\n",
       "Additional Holiday for Wedding of Kate and William      -136.10   \n",
       "Christmas Day                                           -113.26   \n",
       "New Year Bank Holiday                                   -108.68   \n",
       "Good Friday                                             -103.16   \n",
       "Late May Bank Holiday                                    -91.11   \n",
       "Additional Holiday for Queens Diamond Jubilee            -89.29   \n",
       "Christmas Bank Holiday                                   -84.30   \n",
       "Early May Bank Holiday                                   -80.01   \n",
       "August Bank Holiday (England and Wales)                  -77.27   \n",
       "Boxing Day Bank Holiday                                  -70.55   \n",
       "Easter Monday                                            -67.69   \n",
       "Christmas Eve                                            -35.32   \n",
       "Deviation from mean daily rain fall                       -0.40   \n",
       "Deviation from mean daily temperature                      0.45   \n",
       "\n",
       "                                                    Standard Error  \n",
       "Additional Holiday for Wedding of Kate and William           10.07  \n",
       "Christmas Day                                                 5.03  \n",
       "New Year Bank Holiday                                         3.67  \n",
       "Good Friday                                                   3.36  \n",
       "Late May Bank Holiday                                         3.36  \n",
       "Additional Holiday for Queens Diamond Jubilee                10.07  \n",
       "Christmas Bank Holiday                                        5.05  \n",
       "Early May Bank Holiday                                        3.36  \n",
       "August Bank Holiday (England and Wales)                       3.35  \n",
       "Boxing Day Bank Holiday                                       3.50  \n",
       "Easter Monday                                                 3.36  \n",
       "Christmas Eve                                                 3.50  \n",
       "Deviation from mean daily rain fall                           0.06  \n",
       "Deviation from mean daily temperature                         0.13  "
      ]
     },
     "execution_count": 112,
     "metadata": {},
     "output_type": "execute_result"
    }
   ],
   "source": [
    "days_df.sort_values(\"Coefficient\")"
   ]
  },
  {
   "cell_type": "markdown",
   "metadata": {
    "slideshow": {
     "slide_type": "subslide"
    }
   },
   "source": [
    "# Residuals\n",
    "Even with all of the above, there is still a lot of unexplained structure in the time series\n",
    "![alt text](images/resid 2.png)"
   ]
  },
  {
   "cell_type": "markdown",
   "metadata": {
    "slideshow": {
     "slide_type": "slide"
    }
   },
   "source": [
    "# Thank you for listening\n",
    "\n",
    "\n",
    "See these slides again!\n",
    "\n",
    "Gitpages : https://onsbigdata.github.io/RSS-2018/  \n",
    "Github repo:  https://github.com/ONSBigData/RSS-2018/\n",
    "\n",
    "Email: edward.rowland@ons.gov.uk\n",
    "\n"
   ]
  },
  {
   "cell_type": "markdown",
   "metadata": {
    "slideshow": {
     "slide_type": "slide"
    }
   },
   "source": [
    "   # Data - Traffic flow"
   ]
  },
  {
   "cell_type": "markdown",
   "metadata": {
    "slideshow": {
     "slide_type": "slide"
    }
   },
   "source": [
    "# Data - Economic and labour market measures"
   ]
  },
  {
   "cell_type": "markdown",
   "metadata": {
    "slideshow": {
     "slide_type": "fragment"
    }
   },
   "source": [
    "Annual figures are taken to match with traffic flow\n",
    "\n",
    "- **GDP:** The measure used here is the National GDP growth figure as contained in the UK National Accounts Blue Book.\n",
    "- **CPIH:** The annual UK Consumer Price index including owner occupied housing costs is used here. Note that this time series only dates to 2005, so no figure is available before this date\n",
    "- **CPI:** The annual UK Consumer Price index is used here as CPIH is not available before 2005\n",
    "- **Unemployment:** The seasonally adjusted UK unemployment rate for over 16s is used here\n",
    "- **Earnings:** Average weekly earnings is the figure used that gives the money paid per week, per job before tax and other deductions to employees in the UK\n"
   ]
  },
  {
   "cell_type": "markdown",
   "metadata": {
    "slideshow": {
     "slide_type": "slide"
    }
   },
   "source": [
    "# Correlations with annual measures"
   ]
  },
  {
   "cell_type": "markdown",
   "metadata": {
    "slideshow": {
     "slide_type": "fragment"
    }
   },
   "source": [
    "Pearson's correlations of AADF traffic and economic measures lagged by one year"
   ]
  },
  {
   "cell_type": "markdown",
   "metadata": {
    "slideshow": {
     "slide_type": "slide"
    }
   },
   "source": [
    "# Coefficents"
   ]
  },
  {
   "cell_type": "markdown",
   "metadata": {
    "slideshow": {
     "slide_type": "fragment"
    }
   },
   "source": [
    "#### Department for Transport data\n",
    "- Annual average daily flow (AADF) for major and minor roads is used as a measure of traffic flow from 2003 to 2015\n",
    "- Split into different vehicle categories\n",
    "- Daily flow is the number of vehicles passing a point on a road on a day. This is averaged across the year to produce the average daily flow\n",
    "- This measure is based upon approximate 10,000 manual counts per year, between March and October on non-school and public holidays\n",
    "- These counts are used to estimate AADF figures for major roads\n",
    "- A representative sample of minor road sites are selected as observations points\n",
    "- These figures are combined with the change on the previous year to estimate counts for all minor roads\n"
   ]
  },
  {
   "cell_type": "markdown",
   "metadata": {
    "slideshow": {
     "slide_type": "fragment"
    }
   },
   "source": [
    "<table border=\"1\" class=\"dataframe\">  <thead>    <tr>      <th></th>       </tr>    <tr>      <th>Economic indicator</th>      <th>CPI</th>      <th>Change in unemployment (% pts)</th>      <th>Change in weekly earnings (£)</th>      <th>GDP Growth</th>    </tr>    <tr>      <th>Vehicle type</t >      <th></th>      <th></th>      <th></th>      <th></th>    </tr>  </thead>  <tbody>    <tr>      <th>All HGVs</th>      <td>0.08</td>      <td>-0.15</td>      <td>0.95</td>      <td>0.51</td>    </tr>    <tr>      <th>All Motor Vehicles</th>      <td>0.09</td>      <td>-0.50</td>      <td>0.83</td>      <td>0.76</td>    </tr>    <tr>      <th>Buses and Coaches</th>      <td>0.11</td>      <td>-0.56</td>      <td>0.72</td>      <td>0.76</td>    </tr>    <tr>      <th>Cars and Taxis</th>      <td>0.10</td>      <td>-0.46</td>      <td>0.84</td>      <td>0.77</td>    </tr>    <tr>      <th>LGVs</th>      <td>-0.05</td>      <td>-0.67</td>      <td>0.18</td>      <td>0.44</td>    </tr>    <tr>      <th>Motorbikes and Scooters</th>      <td>0.07</td>      <td>0.12</td>      <td>0.83</td>      <td>0.26</td>    </tr>    <tr>      <th>Pedal Cycles</th>      <td>0.04</td>      <td>-0.57</td>      <td>-0.18</td>      <td>0.37</td>    </tr>  </tbody></table>'"
   ]
  },
  {
   "cell_type": "markdown",
   "metadata": {
    "slideshow": {
     "slide_type": "subslide"
    }
   },
   "source": [
    "### Stats Netherlands\n",
    "\n",
    "\n",
    "\n",
    "| Measure       | Total Traffic | Cat 1 (< 5.6m) Traffic | Cat 2 (5.6m =< >= 12.2m) Traffic | Cat 3 (> 12.2m) Traffic |\n",
    "| ------------- |:-------------:| -----:|\n",
    "| Inflation     | -0.42 |  -0.43 | - 0.19 | -0.43 |\n",
    "| Unemployment  | -0.47 |  -0.41 | -0.55 | -0.22 |\n",
    "| Income        | 0.74  |  0.74  |  0.45 | 0.65 |\n",
    "| GDP           | 0.54  | 0.63   | -0.01 | 0.70 |\n"
   ]
  },
  {
   "cell_type": "markdown",
   "metadata": {
    "slideshow": {
     "slide_type": "slide"
    }
   },
   "source": [
    "# Time series models "
   ]
  },
  {
   "cell_type": "markdown",
   "metadata": {
    "slideshow": {
     "slide_type": "fragment"
    }
   },
   "source": [
    "### Approach\n",
    "\n",
    "1. Try some basic Auto-regressive (AR) models \n",
    "    - These contain one variable, where you are trying to predict future values from past (lagged) values\n",
    "    - These shouldn't work well, otherwise it would be easy to predict GDP etc!\n",
    "2. Add in All Vehicles variable in a Vector AR (VAR) model to predict the economic variable\n",
    "    - If traffic flow is a good predictor, then this should give a better estimate of GDP\n"
   ]
  },
  {
   "cell_type": "markdown",
   "metadata": {
    "slideshow": {
     "slide_type": "slide"
    }
   },
   "source": [
    "## Results"
   ]
  },
  {
   "cell_type": "code",
   "execution_count": 24,
   "metadata": {
    "scrolled": true,
    "slideshow": {
     "slide_type": "fragment"
    }
   },
   "outputs": [
    {
     "data": {
      "text/html": [
       "\n",
       "        <iframe\n",
       "            width=\"800\"\n",
       "            height=\"600\"\n",
       "            src=\"figures/actual_vs_AR_predictions.html\"\n",
       "            frameborder=\"0\"\n",
       "            allowfullscreen\n",
       "        ></iframe>\n",
       "        "
      ],
      "text/plain": [
       "<IPython.lib.display.IFrame at 0x7fa2a59d3eb8>"
      ]
     },
     "execution_count": 24,
     "metadata": {},
     "output_type": "execute_result"
    }
   ],
   "source": [
    "IFrame(\"figures/actual_vs_AR_predictions.html\",\n",
    "       width=800, \n",
    "       height=600\n",
    "      )"
   ]
  },
  {
   "cell_type": "markdown",
   "metadata": {
    "slideshow": {
     "slide_type": "slide"
    }
   },
   "source": [
    "# Caveats"
   ]
  },
  {
   "cell_type": "markdown",
   "metadata": {
    "slideshow": {
     "slide_type": "fragment"
    }
   },
   "source": [
    "1. Small timeseries\n",
    "2. In-sample predictions\n",
    "3. Recession is an outlier, may be biasing correlations\n",
    "4. Does give some indication that this could work (with better data and methods)\n"
   ]
  },
  {
   "cell_type": "markdown",
   "metadata": {
    "slideshow": {
     "slide_type": "slide"
    }
   },
   "source": [
    "# Overall Summary"
   ]
  },
  {
   "cell_type": "markdown",
   "metadata": {
    "slideshow": {
     "slide_type": "fragment"
    }
   },
   "source": [
    "- Weekly earnings, GDP and unemployment look like good candidates, like Stats Netherlands\n",
    "- Though no correlation with inflation\n",
    "- Evidence that traffic flow can be used as an early indicator for economic measures\n",
    "- Need more data to allow for more sophisticated methods"
   ]
  },
  {
   "cell_type": "markdown",
   "metadata": {
    "slideshow": {
     "slide_type": "slide"
    }
   },
   "source": [
    "# Daily traffic flow trends\n",
    "\n",
    "Daily traffic flow showing mean 15 min traffic counts averaged across previous 91 days"
   ]
  },
  {
   "cell_type": "code",
   "execution_count": 17,
   "metadata": {
    "slideshow": {
     "slide_type": "fragment"
    }
   },
   "outputs": [
    {
     "data": {
      "text/html": [
       "\n",
       "        <iframe\n",
       "            width=\"800\"\n",
       "            height=\"600\"\n",
       "            src=\"figures/quarterly_smoothed_daily_time_series_multi_metrics_small.html\"\n",
       "            frameborder=\"0\"\n",
       "            allowfullscreen\n",
       "        ></iframe>\n",
       "        "
      ],
      "text/plain": [
       "<IPython.lib.display.IFrame at 0x7f69e0bdf128>"
      ]
     },
     "execution_count": 17,
     "metadata": {},
     "output_type": "execute_result"
    }
   ],
   "source": [
    "IFrame(\"figures/quarterly_smoothed_daily_time_series_multi_metrics_small.html\",\n",
    "       width=800, \n",
    "       height=600\n",
    "      )"
   ]
  },
  {
   "cell_type": "markdown",
   "metadata": {
    "slideshow": {
     "slide_type": "slide"
    }
   },
   "source": [
    "# Annual components of traffic flow data"
   ]
  },
  {
   "cell_type": "markdown",
   "metadata": {
    "slideshow": {
     "slide_type": "subslide"
    }
   },
   "source": [
    "### Trends"
   ]
  },
  {
   "cell_type": "code",
   "execution_count": 19,
   "metadata": {
    "slideshow": {
     "slide_type": "fragment"
    }
   },
   "outputs": [
    {
     "data": {
      "text/html": [
       "\n",
       "        <iframe\n",
       "            width=\"800\"\n",
       "            height=\"400\"\n",
       "            src=\"figures/trends_traffic_flow_decomposition.html\"\n",
       "            frameborder=\"0\"\n",
       "            allowfullscreen\n",
       "        ></iframe>\n",
       "        "
      ],
      "text/plain": [
       "<IPython.lib.display.IFrame at 0x7f69e0bdf3c8>"
      ]
     },
     "execution_count": 19,
     "metadata": {},
     "output_type": "execute_result"
    }
   ],
   "source": [
    "IFrame(\"figures/trends_traffic_flow_decomposition.html\",\n",
    "       width=800, \n",
    "       height=400\n",
    "      )"
   ]
  },
  {
   "cell_type": "markdown",
   "metadata": {
    "slideshow": {
     "slide_type": "subslide"
    }
   },
   "source": [
    "# Yearly component"
   ]
  },
  {
   "cell_type": "code",
   "execution_count": 21,
   "metadata": {
    "slideshow": {
     "slide_type": "fragment"
    }
   },
   "outputs": [
    {
     "data": {
      "text/html": [
       "\n",
       "        <iframe\n",
       "            width=\"800\"\n",
       "            height=\"400\"\n",
       "            src=\"figures/seasons_trends_traffic_flow_decomposition.html\"\n",
       "            frameborder=\"0\"\n",
       "            allowfullscreen\n",
       "        ></iframe>\n",
       "        "
      ],
      "text/plain": [
       "<IPython.lib.display.IFrame at 0x7f69e0bdf278>"
      ]
     },
     "execution_count": 21,
     "metadata": {},
     "output_type": "execute_result"
    }
   ],
   "source": [
    "IFrame(\"figures/seasons_trends_traffic_flow_decomposition.html\",\n",
    "       width=800, \n",
    "       height=400`\n",
    "      )"
   ]
  },
  {
   "cell_type": "markdown",
   "metadata": {
    "slideshow": {
     "slide_type": "subslide"
    }
   },
   "source": [
    "### Residuals"
   ]
  },
  {
   "cell_type": "code",
   "execution_count": 23,
   "metadata": {
    "slideshow": {
     "slide_type": "fragment"
    }
   },
   "outputs": [
    {
     "data": {
      "text/html": [
       "\n",
       "        <iframe\n",
       "            width=\"800\"\n",
       "            height=\"400\"\n",
       "            src=\"figures/resids_trends_traffic_flow_decomposition.html\"\n",
       "            frameborder=\"0\"\n",
       "            allowfullscreen\n",
       "        ></iframe>\n",
       "        "
      ],
      "text/plain": [
       "<IPython.lib.display.IFrame at 0x7f69e0bdf780>"
      ]
     },
     "execution_count": 23,
     "metadata": {},
     "output_type": "execute_result"
    }
   ],
   "source": [
    "IFrame(\"figures/resids_trends_traffic_flow_decomposition.html\",\n",
    "       width=800, \n",
    "       height=400\n",
    "      )"
   ]
  }
 ],
 "metadata": {
  "celltoolbar": "Slideshow",
  "kernelspec": {
   "display_name": "Python [default]",
   "language": "python",
   "name": "python3"
  }
 },
 "nbformat": 4,
 "nbformat_minor": 2
}
