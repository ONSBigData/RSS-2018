{
 "cells": [
  {
   "cell_type": "code",
   "execution_count": 7,
   "metadata": {
    "scrolled": false,
    "slideshow": {
     "slide_type": "skip"
    }
   },
   "outputs": [
    {
     "data": {
      "text/plain": [
       "{'height': 1000, 'width': 1500}"
      ]
     },
     "execution_count": 7,
     "metadata": {},
     "output_type": "execute_result"
    }
   ],
   "source": [
    "import os, sys\n",
    "\n",
    "#figure display\n",
    "from IPython.core.display import HTML\n",
    "from IPython.display import display, IFrame\n",
    "\n",
    "#files for data munging\n",
    "file_dir = os.getcwd()\n",
    "sys.path.append(file_dir + \"/scripts\")\n",
    "\n",
    "#inline plotting\n",
    "from bokeh.resources import INLINE\n",
    "\n",
    "#set size of figures\n",
    "from notebook.services.config import ConfigManager\n",
    "cm = ConfigManager()\n",
    "cm.update('livereveal', {\n",
    "          'width': 1500,\n",
    "          'height': 1000,\n",
    "})\n"
   ]
  },
  {
   "cell_type": "code",
   "execution_count": 7,
   "metadata": {
    "scrolled": true,
    "slideshow": {
     "slide_type": "notes"
    }
   },
   "outputs": [],
   "source": [
    "from IPython.display import IFrame"
   ]
  },
  {
   "cell_type": "code",
   "execution_count": 14,
   "metadata": {
    "slideshow": {
     "slide_type": "notes"
    }
   },
   "outputs": [
    {
     "name": "stdout",
     "output_type": "stream",
     "text": [
      "Process is terminated.\n"
     ]
    }
   ],
   "source": [
    "%%bash \n",
    "jupyter nbconvert ~/Documents/Projects/RSS-2018/index.ipynb --to slides --post serve"
   ]
  },
  {
   "cell_type": "code",
   "execution_count": 11,
   "metadata": {},
   "outputs": [
    {
     "name": "stderr",
     "output_type": "stream",
     "text": [
      "[NbConvertApp] Converting notebook /home/eddr/Documents/Projects/RSS-2018/index.ipynb to slides\n",
      "[NbConvertApp] Writing 300575 bytes to /home/eddr/Documents/Projects/RSS-2018/index.slides.html\n"
     ]
    }
   ],
   "source": [
    "%%bash \n",
    "jupyter nbconvert ~/Documents/Projects/RSS-2018/index.ipynb --to slides"
   ]
  },
  {
   "cell_type": "markdown",
   "metadata": {
    "slideshow": {
     "slide_type": "slide"
    }
   },
   "source": [
    "# Traffic flow as an early indicator for GDP growth (and other economic measures)\n",
    "\n",
    "\n",
    "**Edward Rowland**  \n",
    "Big Data - Methodology \n",
    "\n",
    "**Jessica Lawrence, Nathan Davis, Anthony Fitzroy and Ben Vince**  \n",
    "Data Engineering - DaaS\n",
    " \n",
    "**Duncan Elliot**  \n",
    "Time series analysis - Methodology\n",
    "  \n",
    "Office for National Statistics, UK"
   ]
  },
  {
   "cell_type": "code",
   "execution_count": 21,
   "metadata": {
    "scrolled": false,
    "slideshow": {
     "slide_type": "subslide"
    }
   },
   "outputs": [
    {
     "data": {
      "text/html": [
       "<script>\n",
       "code_show=true; \n",
       "function code_toggle() {\n",
       " if (code_show){\n",
       " $('div.input').hide();\n",
       " } else {\n",
       " $('div.input').show();\n",
       " }\n",
       " code_show = !code_show\n",
       "} \n",
       "$( document ).ready(code_toggle);\n",
       "</script>\n",
       "<form action=\"javascript:code_toggle()\"><input type=\"submit\" value=\"Click here to toggle on/off the raw code.\"></form>"
      ],
      "text/plain": [
       "<IPython.core.display.HTML object>"
      ]
     },
     "execution_count": 21,
     "metadata": {},
     "output_type": "execute_result"
    }
   ],
   "source": [
    "# source: https://stackoverflow.com/questions/27934885/how-to-hide-code-from-cells-in-ipython-notebook-visualized-with-nbviewer\n",
    "\n",
    "HTML('''<script>\n",
    "code_show=true; \n",
    "function code_toggle() {\n",
    " if (code_show){\n",
    " $('div.input').hide();\n",
    " } else {\n",
    " $('div.input').show();\n",
    " }\n",
    " code_show = !code_show\n",
    "} \n",
    "$( document ).ready(code_toggle);\n",
    "</script>\n",
    "<form action=\"javascript:code_toggle()\"><input type=\"submit\" value=\"Click here to toggle on/off the raw code.\"></form>''')"
   ]
  },
  {
   "cell_type": "code",
   "execution_count": 1,
   "metadata": {
    "scrolled": false,
    "slideshow": {
     "slide_type": "subslide"
    }
   },
   "outputs": [
    {
     "data": {
      "text/html": [
       "<script>\n",
       "code_show_err=false; \n",
       "function code_toggle_err() {\n",
       " if (code_show_err){\n",
       " $('div.output_stderr').hide();\n",
       " } else {\n",
       " $('div.output_stderr').show();\n",
       " }\n",
       " code_show_err = !code_show_err\n",
       "} \n",
       "$( document ).ready(code_toggle_err);\n",
       "</script>\n",
       "\n",
       "<form action=\"javascript:code_toggle_err()\"><input type=\"submit\" value=\"Click here to toggle on/off warnings.\"></form>"
      ],
      "text/plain": [
       "<IPython.core.display.HTML object>"
      ]
     },
     "execution_count": 1,
     "metadata": {},
     "output_type": "execute_result"
    }
   ],
   "source": [
    "#source: https://stackoverflow.com/questions/9031783/hide-all-warnings-in-ipython\n",
    "from IPython.display import HTML\n",
    "\n",
    "HTML('''<script>\n",
    "code_show_err=false; \n",
    "function code_toggle_err() {\n",
    " if (code_show_err){\n",
    " $('div.output_stderr').hide();\n",
    " } else {\n",
    " $('div.output_stderr').show();\n",
    " }\n",
    " code_show_err = !code_show_err\n",
    "} \n",
    "$( document ).ready(code_toggle_err);\n",
    "</script>\n",
    "\n",
    "<form action=\"javascript:code_toggle_err()\"><input type=\"submit\" value=\"Click here to toggle on/off warnings.\"></form>''')"
   ]
  },
  {
   "cell_type": "markdown",
   "metadata": {
    "slideshow": {
     "slide_type": "slide"
    }
   },
   "source": [
    "# Talk Structure\n",
    "\n",
    "\n",
    "1. Background\n",
    "2. Other research\n",
    "4. High Frequency traffic counts\n",
    "5. Supervised learning models\n",
    "5. Discussion\n",
    "6. Future direction with some more time series analysis"
   ]
  },
  {
   "cell_type": "markdown",
   "metadata": {
    "slideshow": {
     "slide_type": "slide"
    }
   },
   "source": [
    "<h1>\n",
    "Background\n",
    "</h1>"
   ]
  },
  {
   "cell_type": "markdown",
   "metadata": {
    "slideshow": {
     "slide_type": "fragment"
    }
   },
   "source": [
    "### Traffic flow is thought to be elastic to a number of economic factors\n",
    "\n",
    "- GDP: More stuff being made that needs to be moved about\n",
    "- Salary: More money means people might travel more for work, business and leisure\n",
    "- Employment: More people in work may mean more commuting\n",
    "- Inflation: If the cost of living goes up, that might mean less traffic as people cut back on expenses\n"
   ]
  },
  {
   "cell_type": "markdown",
   "metadata": {
    "slideshow": {
     "slide_type": "subslide"
    }
   },
   "source": [
    "### How is this useful?"
   ]
  },
  {
   "cell_type": "markdown",
   "metadata": {
    "slideshow": {
     "slide_type": "fragment"
    }
   },
   "source": [
    "**1. More localised estimates**\n",
    "\n",
    "Identify areas of low or negative growth that would be lost if looking at the national figures"
   ]
  },
  {
   "cell_type": "markdown",
   "metadata": {
    "slideshow": {
     "slide_type": "fragment"
    }
   },
   "source": [
    "**2. Potential early indicator**\n",
    "\n",
    "A recession is defined as having two or more quarters of negative GDP growth.\n",
    "The UK won't officially know if it is in recession until around 6-7 months after it started."
   ]
  },
  {
   "cell_type": "markdown",
   "metadata": {
    "slideshow": {
     "slide_type": "fragment"
    }
   },
   "source": [
    "**3. Identify impacts of specific events**\n",
    "\n",
    "With high frequency data, it could identify the impacts of events (Weather, terrorist attacks, Brexit etc.)"
   ]
  },
  {
   "cell_type": "markdown",
   "metadata": {
    "slideshow": {
     "slide_type": "fragment"
    }
   },
   "source": [
    "**This aim is to find relationships between traffic and economic indicators to see if this could work**"
   ]
  },
  {
   "cell_type": "markdown",
   "metadata": {
    "slideshow": {
     "slide_type": "slide"
    }
   },
   "source": [
    "# Other work"
   ]
  },
  {
   "cell_type": "markdown",
   "metadata": {
    "slideshow": {
     "slide_type": "slide"
    }
   },
   "source": [
    "### Stats Netherlands\n",
    "\n",
    "Research using data from an extensive road sensor network in The Netherlands shows correlations with traffic flow and a number of economic measures with a lag of 3 months\n",
    "\n",
    "\n",
    "| Measure       | Total Traffic | Cat 1 (< 5.6m) Traffic | Cat 2 (5.6m =< >= 12.2m) Traffic | Cat 3 (> 12.2m) Traffic |\n",
    "| ------------- |:-------------:| -----:|\n",
    "| Inflation     | -0.42 |  -0.43 | - 0.19 | -0.43 |\n",
    "| Unemployment  | -0.47 |  -0.41 | -0.55 | -0.22 |\n",
    "| Income        | 0.74  |  0.74  |  0.45 | 0.65 |\n",
    "| GDP           | 0.54  | 0.63   | -0.01 | 0.70 |\n"
   ]
  },
  {
   "cell_type": "markdown",
   "metadata": {
    "slideshow": {
     "slide_type": "subslide"
    }
   },
   "source": [
    "- Income followed by GDP look to be the strongest correlates\n",
    "- Larger vehicles (HGVs) correlate most strongly with GDP\n",
    "- Perhaps some weaker correlations with inflation and Unemployment\n",
    "\n",
    "We can look and see if this matches with the data used here later"
   ]
  },
  {
   "cell_type": "markdown",
   "metadata": {
    "slideshow": {
     "slide_type": "fragment"
    }
   },
   "source": [
    "Killan, Ros,  \"Road Traffic Correlations with Economic Variables: The Big Data Perspective., 2017, https://pdfs.semanticscholar.org/1f1d/b563d229bdd4fd8c90ad8dd6c5cd3487f76b.pdf"
   ]
  },
  {
   "cell_type": "markdown",
   "metadata": {
    "slideshow": {
     "slide_type": "slide"
    }
   },
   "source": [
    "### Slovenia"
   ]
  },
  {
   "cell_type": "markdown",
   "metadata": {
    "slideshow": {
     "slide_type": "fragment"
    }
   },
   "source": [
    "- Used traffic flow to estimate GDP figure 45 days before its publication.\n",
    "- PCA with linear regression to estimate GDP\n",
    "- Found that Cargo vehicles were the best predictor of GDP, within 1% of the GDP figure"
   ]
  },
  {
   "cell_type": "markdown",
   "metadata": {
    "slideshow": {
     "slide_type": "fragment"
    }
   },
   "source": [
    "Črt Grahonja, 2018, Use of alternative data sources as flash estimates of economic indicators,\n",
    "European conference on quality in official statistics June 2018: \n",
    "https://www.q2018.pl/papers-presentations/?drawer=Sessions*Session%2022\n"
   ]
  },
  {
   "cell_type": "markdown",
   "metadata": {
    "slideshow": {
     "slide_type": "slide"
    }
   },
   "source": [
    "## Finland"
   ]
  },
  {
   "cell_type": "markdown",
   "metadata": {
    "slideshow": {
     "slide_type": "fragment"
    }
   },
   "source": [
    "- Uses Company level data and traffic loops to produce two nowcasts and a 16-day backcast of GDP\n",
    "- Reduce factors by two-step PCA and shrinkage step \n",
    "- 16 day backcast was as accurate as the first estimate of GDP when comparing both to the revised figure\n",
    "- Traffic flow and company data were similar when estimating GDP"
   ]
  },
  {
   "cell_type": "markdown",
   "metadata": {
    "slideshow": {
     "slide_type": "fragment"
    }
   },
   "source": [
    "Henri Luomaranta, 2018, Nowcasting Finnish Real Economic Activity: a Machine Learning Approach,\n",
    "European conference on Quality in official statistics June 2018: \n",
    "https://www.q2018.pl/papers-presentations/?drawer=Sessions*Session%2022"
   ]
  },
  {
   "cell_type": "markdown",
   "metadata": {
    "slideshow": {
     "slide_type": "slide"
    }
   },
   "source": [
    "# High frequency traffic flow data"
   ]
  },
  {
   "cell_type": "markdown",
   "metadata": {
    "slideshow": {
     "slide_type": "subslide"
    }
   },
   "source": [
    "## Highways England data"
   ]
  },
  {
   "cell_type": "markdown",
   "metadata": {
    "slideshow": {
     "slide_type": "fragment"
    }
   },
   "source": [
    "Highways England provides an open dataset containing traffic flow counts at 15 minute intervals for Motorways and major A-Roads across England.\n",
    "\n",
    "- The Data Engineering team in DaaS have scraped this and ingested into DAP-E\n",
    "    - Over 2 million seperate files\n",
    "    - Over 200Gb of data\n",
    "    - Seperates out small (< 5.6m), medium (5.6 - 6.6m), large (6.6 - 11.6m) and very large (> 11.6m) vehicles\n",
    "\n",
    "- Really exciting high frequency dataset - ideally suited for this work\n",
    "    - Look at the approaches used in Slovenia and Finland\n",
    "\n"
   ]
  },
  {
   "cell_type": "markdown",
   "metadata": {
    "slideshow": {
     "slide_type": "slide"
    }
   },
   "source": [
    "### What we did"
   ]
  },
  {
   "cell_type": "markdown",
   "metadata": {
    "slideshow": {
     "slide_type": "subslide"
    }
   },
   "source": [
    "Make the data manageable\n",
    "- Aggregate to give mean traffic count for a 15 minute period across the UK for each day\n",
    "- Applied some straightfoward decomposition to find trend and yearly seasonal component\n",
    "- For supervised learning, create a feature for each traffic variable for each day in time period\n",
    "- Compare this to quarterly GDP"
   ]
  },
  {
   "cell_type": "markdown",
   "metadata": {
    "slideshow": {
     "slide_type": "slide"
    }
   },
   "source": [
    "# Modelling"
   ]
  },
  {
   "cell_type": "markdown",
   "metadata": {
    "slideshow": {
     "slide_type": "fragment"
    }
   },
   "source": [
    "A range of different approaches were used including...\n",
    "\n",
    "- SARIMAX - with a variety of different quarterly weighted average traffic flow measures as exogenous regressors\n",
    "- PCA for decomposition and linear regression with and without shrinkage methods.\n",
    "- PCA for decomposition and Random Forest Regression\n",
    "\n",
    "- 3-fold cross validated Grid Search used for parameter optimisation for supervised learning methods\n",
    "\n",
    "Ridge regression looked to be the \"best\" model (none of these worked that well)"
   ]
  },
  {
   "cell_type": "code",
   "execution_count": 15,
   "metadata": {
    "slideshow": {
     "slide_type": "slide"
    }
   },
   "outputs": [
    {
     "data": {
      "text/html": [
       "\n",
       "        <iframe\n",
       "            width=\"800\"\n",
       "            height=\"600\"\n",
       "            src=\"figures/full_ts_ridge_model_small.html\"\n",
       "            frameborder=\"0\"\n",
       "            allowfullscreen\n",
       "        ></iframe>\n",
       "        "
      ],
      "text/plain": [
       "<IPython.lib.display.IFrame at 0x7f69e0bdf0b8>"
      ]
     },
     "execution_count": 15,
     "metadata": {},
     "output_type": "execute_result"
    }
   ],
   "source": [
    "IFrame(\"figures/full_ts_ridge_model_small.html\",\n",
    "       width=800, \n",
    "       height=600)\n"
   ]
  },
  {
   "cell_type": "markdown",
   "metadata": {
    "slideshow": {
     "slide_type": "subslide"
    }
   },
   "source": [
    "### Model metrics\n",
    "\n",
    "| Metric       | | \n",
    "| ------------- |:-------------:| \n",
    "| MSE     | 0.353 |\n",
    "| R squared | 0.354|\n",
    "\n"
   ]
  },
  {
   "cell_type": "markdown",
   "metadata": {
    "slideshow": {
     "slide_type": "slide"
    }
   },
   "source": [
    "# Why did this fail?\n",
    "\n",
    "The approaches used here are similar to the work carried out in Finland and Slovenia."
   ]
  },
  {
   "cell_type": "markdown",
   "metadata": {
    "slideshow": {
     "slide_type": "fragment"
    }
   },
   "source": [
    "Data time period used by..."
   ]
  },
  {
   "cell_type": "markdown",
   "metadata": {
    "slideshow": {
     "slide_type": "fragment"
    }
   },
   "source": [
    "- Stats Netherlands: 2011 - 2016"
   ]
  },
  {
   "cell_type": "markdown",
   "metadata": {
    "slideshow": {
     "slide_type": "fragment"
    }
   },
   "source": [
    "- Statistics Finland: 2013 - 2018"
   ]
  },
  {
   "cell_type": "markdown",
   "metadata": {
    "slideshow": {
     "slide_type": "fragment"
    }
   },
   "source": [
    "- SURS: 2011-2018 "
   ]
  },
  {
   "cell_type": "markdown",
   "metadata": {
    "slideshow": {
     "slide_type": "fragment"
    }
   },
   "source": [
    "- ONS, UK: 2006 - 2014"
   ]
  },
  {
   "cell_type": "markdown",
   "metadata": {
    "slideshow": {
     "slide_type": "fragment"
    }
   },
   "source": [
    "... only one of these includes a global financial crisis. Lets see what happens when we try this with data from 2010-2014."
   ]
  },
  {
   "cell_type": "code",
   "execution_count": 16,
   "metadata": {
    "slideshow": {
     "slide_type": "subslide"
    }
   },
   "outputs": [
    {
     "data": {
      "text/html": [
       "\n",
       "        <iframe\n",
       "            width=\"800\"\n",
       "            height=\"600\"\n",
       "            src=\"figures/no_rec_ridge_model_small.html\"\n",
       "            frameborder=\"0\"\n",
       "            allowfullscreen\n",
       "        ></iframe>\n",
       "        "
      ],
      "text/plain": [
       "<IPython.lib.display.IFrame at 0x7f69e0bdf240>"
      ]
     },
     "execution_count": 16,
     "metadata": {},
     "output_type": "execute_result"
    }
   ],
   "source": [
    "IFrame(\"figures/no_rec_ridge_model_small.html\",\n",
    "       width=800, \n",
    "       height=600)\n"
   ]
  },
  {
   "cell_type": "markdown",
   "metadata": {
    "slideshow": {
     "slide_type": "subslide"
    }
   },
   "source": [
    "| Metric       | Value  | Fitted to | Features            | \n",
    "| ------------:|:------:|:----------|:-------------------:| \n",
    "| MSE          | 0.024  | 2010-2014 | Trend and seasonal components |\n",
    "| R squared    | 0.796  | 2010-2014 | Trend and seasonal components |\n",
    "| MSE          | 0.137  | 2006-2014 |7 day moving average |\n",
    "| R squared    | -0.126 | 2006-2014 |7 day moving average |\n"
   ]
  },
  {
   "cell_type": "markdown",
   "metadata": {
    "slideshow": {
     "slide_type": "slide"
    }
   },
   "source": [
    "# That looks a lot better!"
   ]
  },
  {
   "cell_type": "markdown",
   "metadata": {
    "slideshow": {
     "slide_type": "slide"
    }
   },
   "source": [
    "# Summary"
   ]
  },
  {
   "cell_type": "markdown",
   "metadata": {
    "slideshow": {
     "slide_type": "fragment"
    }
   },
   "source": [
    "- We can produce reasonable estimates of GDP with traffic flow data, **when there is no recession**\n",
    "- This replicates results found by other NSIs\n",
    "- That is not to say these are wrong, we need to be very cautious when making predictions about the real world\n"
   ]
  },
  {
   "cell_type": "markdown",
   "metadata": {
    "slideshow": {
     "slide_type": "slide"
    }
   },
   "source": [
    "# Be **very** careful with traffic data for nowcasting/flash estimates of economic metrics"
   ]
  },
  {
   "cell_type": "markdown",
   "metadata": {
    "slideshow": {
     "slide_type": "fragment"
    }
   },
   "source": [
    "If these types of estimates are used by policy makers, businesses etc. then it is possible they will not be able predict drastic changes, like a recession. "
   ]
  },
  {
   "cell_type": "markdown",
   "metadata": {
    "slideshow": {
     "slide_type": "fragment"
    }
   },
   "source": [
    "This means your model may fail, just when it is needed the most."
   ]
  },
  {
   "cell_type": "markdown",
   "metadata": {
    "slideshow": {
     "slide_type": "slide"
    }
   },
   "source": [
    "# What can we do then?"
   ]
  },
  {
   "cell_type": "markdown",
   "metadata": {
    "slideshow": {
     "slide_type": "fragment"
    }
   },
   "source": [
    "Well the data we have means we may be able to solve this problem.\n",
    "\n",
    "We have only scratched the surface, there may be a recession \"singiture\" in the data. With careful decomposition and analysis we may be able to find it, such as..."
   ]
  },
  {
   "cell_type": "markdown",
   "metadata": {
    "slideshow": {
     "slide_type": "slide"
    }
   },
   "source": [
    "# Thank you for listening\n",
    "\n",
    "\n",
    "See these slides.\n",
    "\n",
    "\n",
    "\n"
   ]
  },
  {
   "cell_type": "markdown",
   "metadata": {
    "slideshow": {
     "slide_type": "slide"
    }
   },
   "source": [
    "   # Data - Traffic flow"
   ]
  },
  {
   "cell_type": "markdown",
   "metadata": {
    "slideshow": {
     "slide_type": "slide"
    }
   },
   "source": [
    "# Data - Economic and labour market measures"
   ]
  },
  {
   "cell_type": "markdown",
   "metadata": {
    "slideshow": {
     "slide_type": "fragment"
    }
   },
   "source": [
    "Annual figures are taken to match with traffic flow\n",
    "\n",
    "- **GDP:** The measure used here is the National GDP growth figure as contained in the UK National Accounts Blue Book.\n",
    "- **CPIH:** The annual UK Consumer Price index including owner occupied housing costs is used here. Note that this time series only dates to 2005, so no figure is available before this date\n",
    "- **CPI:** The annual UK Consumer Price index is used here as CPIH is not available before 2005\n",
    "- **Unemployment:** The seasonally adjusted UK unemployment rate for over 16s is used here\n",
    "- **Earnings:** Average weekly earnings is the figure used that gives the money paid per week, per job before tax and other deductions to employees in the UK\n"
   ]
  },
  {
   "cell_type": "markdown",
   "metadata": {
    "slideshow": {
     "slide_type": "slide"
    }
   },
   "source": [
    "# Correlations with annual measures"
   ]
  },
  {
   "cell_type": "markdown",
   "metadata": {
    "slideshow": {
     "slide_type": "fragment"
    }
   },
   "source": [
    "Pearson's correlations of AADF traffic and economic measures lagged by one year"
   ]
  },
  {
   "cell_type": "markdown",
   "metadata": {
    "slideshow": {
     "slide_type": "slide"
    }
   },
   "source": [
    "# Coefficents"
   ]
  },
  {
   "cell_type": "markdown",
   "metadata": {
    "slideshow": {
     "slide_type": "fragment"
    }
   },
   "source": [
    "#### Department for Transport data\n",
    "- Annual average daily flow (AADF) for major and minor roads is used as a measure of traffic flow from 2003 to 2015\n",
    "- Split into different vehicle categories\n",
    "- Daily flow is the number of vehicles passing a point on a road on a day. This is averaged across the year to produce the average daily flow\n",
    "- This measure is based upon approximate 10,000 manual counts per year, between March and October on non-school and public holidays\n",
    "- These counts are used to estimate AADF figures for major roads\n",
    "- A representative sample of minor road sites are selected as observations points\n",
    "- These figures are combined with the change on the previous year to estimate counts for all minor roads\n"
   ]
  },
  {
   "cell_type": "markdown",
   "metadata": {
    "slideshow": {
     "slide_type": "fragment"
    }
   },
   "source": [
    "<table border=\"1\" class=\"dataframe\">  <thead>    <tr>      <th></th>       </tr>    <tr>      <th>Economic indicator</th>      <th>CPI</th>      <th>Change in unemployment (% pts)</th>      <th>Change in weekly earnings (£)</th>      <th>GDP Growth</th>    </tr>    <tr>      <th>Vehicle type</t >      <th></th>      <th></th>      <th></th>      <th></th>    </tr>  </thead>  <tbody>    <tr>      <th>All HGVs</th>      <td>0.08</td>      <td>-0.15</td>      <td>0.95</td>      <td>0.51</td>    </tr>    <tr>      <th>All Motor Vehicles</th>      <td>0.09</td>      <td>-0.50</td>      <td>0.83</td>      <td>0.76</td>    </tr>    <tr>      <th>Buses and Coaches</th>      <td>0.11</td>      <td>-0.56</td>      <td>0.72</td>      <td>0.76</td>    </tr>    <tr>      <th>Cars and Taxis</th>      <td>0.10</td>      <td>-0.46</td>      <td>0.84</td>      <td>0.77</td>    </tr>    <tr>      <th>LGVs</th>      <td>-0.05</td>      <td>-0.67</td>      <td>0.18</td>      <td>0.44</td>    </tr>    <tr>      <th>Motorbikes and Scooters</th>      <td>0.07</td>      <td>0.12</td>      <td>0.83</td>      <td>0.26</td>    </tr>    <tr>      <th>Pedal Cycles</th>      <td>0.04</td>      <td>-0.57</td>      <td>-0.18</td>      <td>0.37</td>    </tr>  </tbody></table>'"
   ]
  },
  {
   "cell_type": "markdown",
   "metadata": {
    "slideshow": {
     "slide_type": "subslide"
    }
   },
   "source": [
    "### Stats Netherlands\n",
    "\n",
    "\n",
    "\n",
    "| Measure       | Total Traffic | Cat 1 (< 5.6m) Traffic | Cat 2 (5.6m =< >= 12.2m) Traffic | Cat 3 (> 12.2m) Traffic |\n",
    "| ------------- |:-------------:| -----:|\n",
    "| Inflation     | -0.42 |  -0.43 | - 0.19 | -0.43 |\n",
    "| Unemployment  | -0.47 |  -0.41 | -0.55 | -0.22 |\n",
    "| Income        | 0.74  |  0.74  |  0.45 | 0.65 |\n",
    "| GDP           | 0.54  | 0.63   | -0.01 | 0.70 |\n"
   ]
  },
  {
   "cell_type": "markdown",
   "metadata": {
    "slideshow": {
     "slide_type": "slide"
    }
   },
   "source": [
    "# Time series models "
   ]
  },
  {
   "cell_type": "markdown",
   "metadata": {
    "slideshow": {
     "slide_type": "fragment"
    }
   },
   "source": [
    "### Approach\n",
    "\n",
    "1. Try some basic Auto-regressive (AR) models \n",
    "    - These contain one variable, where you are trying to predict future values from past (lagged) values\n",
    "    - These shouldn't work well, otherwise it would be easy to predict GDP etc!\n",
    "2. Add in All Vehicles variable in a Vector AR (VAR) model to predict the economic variable\n",
    "    - If traffic flow is a good predictor, then this should give a better estimate of GDP\n"
   ]
  },
  {
   "cell_type": "markdown",
   "metadata": {
    "slideshow": {
     "slide_type": "slide"
    }
   },
   "source": [
    "## Results"
   ]
  },
  {
   "cell_type": "code",
   "execution_count": 24,
   "metadata": {
    "scrolled": true,
    "slideshow": {
     "slide_type": "fragment"
    }
   },
   "outputs": [
    {
     "data": {
      "text/html": [
       "\n",
       "        <iframe\n",
       "            width=\"800\"\n",
       "            height=\"600\"\n",
       "            src=\"figures/actual_vs_AR_predictions.html\"\n",
       "            frameborder=\"0\"\n",
       "            allowfullscreen\n",
       "        ></iframe>\n",
       "        "
      ],
      "text/plain": [
       "<IPython.lib.display.IFrame at 0x7fa2a59d3eb8>"
      ]
     },
     "execution_count": 24,
     "metadata": {},
     "output_type": "execute_result"
    }
   ],
   "source": [
    "IFrame(\"figures/actual_vs_AR_predictions.html\",\n",
    "       width=800, \n",
    "       height=600\n",
    "      )"
   ]
  },
  {
   "cell_type": "markdown",
   "metadata": {
    "slideshow": {
     "slide_type": "slide"
    }
   },
   "source": [
    "# Caveats"
   ]
  },
  {
   "cell_type": "markdown",
   "metadata": {
    "slideshow": {
     "slide_type": "fragment"
    }
   },
   "source": [
    "1. Small timeseries\n",
    "2. In-sample predictions\n",
    "3. Recession is an outlier, may be biasing correlations\n",
    "4. Does give some indication that this could work (with better data and methods)\n"
   ]
  },
  {
   "cell_type": "markdown",
   "metadata": {
    "slideshow": {
     "slide_type": "slide"
    }
   },
   "source": [
    "# Overall Summary"
   ]
  },
  {
   "cell_type": "markdown",
   "metadata": {
    "slideshow": {
     "slide_type": "fragment"
    }
   },
   "source": [
    "- Weekly earnings, GDP and unemployment look like good candidates, like Stats Netherlands\n",
    "- Though no correlation with inflation\n",
    "- Evidence that traffic flow can be used as an early indicator for economic measures\n",
    "- Need more data to allow for more sophisticated methods"
   ]
  },
  {
   "cell_type": "markdown",
   "metadata": {
    "slideshow": {
     "slide_type": "slide"
    }
   },
   "source": [
    "# Daily traffic flow trends\n",
    "\n",
    "Daily traffic flow showing mean 15 min traffic counts averaged across previous 91 days"
   ]
  },
  {
   "cell_type": "code",
   "execution_count": 17,
   "metadata": {
    "slideshow": {
     "slide_type": "fragment"
    }
   },
   "outputs": [
    {
     "data": {
      "text/html": [
       "\n",
       "        <iframe\n",
       "            width=\"800\"\n",
       "            height=\"600\"\n",
       "            src=\"figures/quarterly_smoothed_daily_time_series_multi_metrics_small.html\"\n",
       "            frameborder=\"0\"\n",
       "            allowfullscreen\n",
       "        ></iframe>\n",
       "        "
      ],
      "text/plain": [
       "<IPython.lib.display.IFrame at 0x7f69e0bdf128>"
      ]
     },
     "execution_count": 17,
     "metadata": {},
     "output_type": "execute_result"
    }
   ],
   "source": [
    "IFrame(\"figures/quarterly_smoothed_daily_time_series_multi_metrics_small.html\",\n",
    "       width=800, \n",
    "       height=600\n",
    "      )"
   ]
  },
  {
   "cell_type": "markdown",
   "metadata": {
    "slideshow": {
     "slide_type": "slide"
    }
   },
   "source": [
    "# Annual components of traffic flow data"
   ]
  },
  {
   "cell_type": "markdown",
   "metadata": {
    "slideshow": {
     "slide_type": "subslide"
    }
   },
   "source": [
    "### Trends"
   ]
  },
  {
   "cell_type": "code",
   "execution_count": 19,
   "metadata": {
    "slideshow": {
     "slide_type": "fragment"
    }
   },
   "outputs": [
    {
     "data": {
      "text/html": [
       "\n",
       "        <iframe\n",
       "            width=\"800\"\n",
       "            height=\"400\"\n",
       "            src=\"figures/trends_traffic_flow_decomposition.html\"\n",
       "            frameborder=\"0\"\n",
       "            allowfullscreen\n",
       "        ></iframe>\n",
       "        "
      ],
      "text/plain": [
       "<IPython.lib.display.IFrame at 0x7f69e0bdf3c8>"
      ]
     },
     "execution_count": 19,
     "metadata": {},
     "output_type": "execute_result"
    }
   ],
   "source": [
    "IFrame(\"figures/trends_traffic_flow_decomposition.html\",\n",
    "       width=800, \n",
    "       height=400\n",
    "      )"
   ]
  },
  {
   "cell_type": "markdown",
   "metadata": {
    "slideshow": {
     "slide_type": "subslide"
    }
   },
   "source": [
    "# Yearly component"
   ]
  },
  {
   "cell_type": "code",
   "execution_count": 21,
   "metadata": {
    "slideshow": {
     "slide_type": "fragment"
    }
   },
   "outputs": [
    {
     "data": {
      "text/html": [
       "\n",
       "        <iframe\n",
       "            width=\"800\"\n",
       "            height=\"400\"\n",
       "            src=\"figures/seasons_trends_traffic_flow_decomposition.html\"\n",
       "            frameborder=\"0\"\n",
       "            allowfullscreen\n",
       "        ></iframe>\n",
       "        "
      ],
      "text/plain": [
       "<IPython.lib.display.IFrame at 0x7f69e0bdf278>"
      ]
     },
     "execution_count": 21,
     "metadata": {},
     "output_type": "execute_result"
    }
   ],
   "source": [
    "IFrame(\"figures/seasons_trends_traffic_flow_decomposition.html\",\n",
    "       width=800, \n",
    "       height=400`\n",
    "      )"
   ]
  },
  {
   "cell_type": "markdown",
   "metadata": {
    "slideshow": {
     "slide_type": "subslide"
    }
   },
   "source": [
    "### Residuals"
   ]
  },
  {
   "cell_type": "code",
   "execution_count": 23,
   "metadata": {
    "slideshow": {
     "slide_type": "fragment"
    }
   },
   "outputs": [
    {
     "data": {
      "text/html": [
       "\n",
       "        <iframe\n",
       "            width=\"800\"\n",
       "            height=\"400\"\n",
       "            src=\"figures/resids_trends_traffic_flow_decomposition.html\"\n",
       "            frameborder=\"0\"\n",
       "            allowfullscreen\n",
       "        ></iframe>\n",
       "        "
      ],
      "text/plain": [
       "<IPython.lib.display.IFrame at 0x7f69e0bdf780>"
      ]
     },
     "execution_count": 23,
     "metadata": {},
     "output_type": "execute_result"
    }
   ],
   "source": [
    "IFrame(\"figures/resids_trends_traffic_flow_decomposition.html\",\n",
    "       width=800, \n",
    "       height=400\n",
    "      )"
   ]
  }
 ],
 "metadata": {
  "celltoolbar": "Slideshow",
  "kernelspec": {
   "display_name": "report-GvhoWphm",
   "language": "python",
   "name": "report-gvhowphm"
  },
  "language_info": {
   "codemirror_mode": {
    "name": "ipython",
    "version": 3
   },
   "file_extension": ".py",
   "mimetype": "text/x-python",
   "name": "python",
   "nbconvert_exporter": "python",
   "pygments_lexer": "ipython3",
   "version": "3.5.4"
  }
 },
 "nbformat": 4,
 "nbformat_minor": 2
}
